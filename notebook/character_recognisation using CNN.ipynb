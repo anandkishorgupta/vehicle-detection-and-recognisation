{
  "nbformat": 4,
  "nbformat_minor": 0,
  "metadata": {
    "colab": {
      "provenance": [],
      "gpuType": "T4"
    },
    "kernelspec": {
      "name": "python3",
      "display_name": "Python 3"
    },
    "language_info": {
      "name": "python"
    },
    "accelerator": "GPU"
  },
  "cells": [
    {
      "cell_type": "code",
      "execution_count": null,
      "metadata": {
        "colab": {
          "base_uri": "https://localhost:8080/"
        },
        "id": "HIwvnjJkrw_o",
        "outputId": "ed05d452-cf47-415a-b23f-a8afba44fb43"
      },
      "outputs": [
        {
          "output_type": "stream",
          "name": "stdout",
          "text": [
            "Unzipping completed!\n"
          ]
        }
      ],
      "source": [
        "import os\n",
        "\n",
        "zip_file_path = '/content/drive/MyDrive/character_recognisation/archive1.zip'\n",
        "extract_to_path = '/content/drive/MyDrive/character_recognisation/'\n",
        "\n",
        "# Unzip using the system's unzip command\n",
        "os.system(f'unzip -q {zip_file_path} -d {extract_to_path}')\n",
        "\n",
        "print(\"Unzipping completed!\")\n"
      ]
    },
    {
      "cell_type": "code",
      "source": [
        "from google.colab import drive\n",
        "drive.mount('/content/drive')"
      ],
      "metadata": {
        "colab": {
          "base_uri": "https://localhost:8080/"
        },
        "id": "8q0yfIu4sUnM",
        "outputId": "b83c886f-0963-4311-fd8c-86cde5af6e7c"
      },
      "execution_count": null,
      "outputs": [
        {
          "output_type": "stream",
          "name": "stdout",
          "text": [
            "Mounted at /content/drive\n"
          ]
        }
      ]
    },
    {
      "cell_type": "code",
      "source": [
        "%cd /content/drive/MyDrive/character_recognisation"
      ],
      "metadata": {
        "colab": {
          "base_uri": "https://localhost:8080/"
        },
        "id": "Wj0sDJYDsUkN",
        "outputId": "1b6eb348-7d20-4f60-b02d-ab0defc42e13"
      },
      "execution_count": null,
      "outputs": [
        {
          "output_type": "stream",
          "name": "stdout",
          "text": [
            "/content/drive/MyDrive/character_recognisation\n"
          ]
        }
      ]
    },
    {
      "cell_type": "code",
      "source": [
        "import torch\n",
        "import torch.nn as nn\n",
        "import torch.optim as optim\n",
        "import torch.nn.functional as F\n",
        "from torch.utils.data import DataLoader, Dataset, random_split\n",
        "from torchvision import datasets, transforms\n",
        "from torchvision.datasets import ImageFolder\n",
        "import os\n",
        "import numpy as np\n",
        "from tqdm import tqdm\n",
        "import matplotlib.pyplot as plt\n",
        "import pickle"
      ],
      "metadata": {
        "id": "hIVAPwjksVeE"
      },
      "execution_count": null,
      "outputs": []
    },
    {
      "cell_type": "code",
      "source": [
        "data_dir = '/content/drive/MyDrive/character_recognisation/character_ocr'"
      ],
      "metadata": {
        "id": "K5y8uzPYsVbT"
      },
      "execution_count": null,
      "outputs": []
    },
    {
      "cell_type": "code",
      "source": [
        "transform = transforms.Compose([\n",
        "    transforms.Resize((32, 32)), # Resize images to 32x32 pixels\n",
        "    transforms.RandomRotation(10),\n",
        "    transforms.ToTensor(), # Convert images to PyTorch tensors\n",
        "    transforms.Normalize((0.5, 0.5, 0.5), (0.5, 0.5, 0.5))\n",
        "])  # To normalize image"
      ],
      "metadata": {
        "id": "F7xuwZYgs4Bu"
      },
      "execution_count": null,
      "outputs": []
    },
    {
      "cell_type": "code",
      "source": [
        "dataset = datasets.ImageFolder(root=data_dir, transform=transform)\n",
        "class_names = dataset.classes\n",
        "print(f\"Classes: {class_names}\")\n",
        "print(f\"Number of classes: {len(class_names)}\")\n",
        "print(f\"Total number of images: {len(dataset)}\")"
      ],
      "metadata": {
        "colab": {
          "base_uri": "https://localhost:8080/"
        },
        "id": "UK5SPK1Ms3_8",
        "outputId": "4a8d08a3-7215-43bb-b4e7-1f814435b45b"
      },
      "execution_count": null,
      "outputs": [
        {
          "output_type": "stream",
          "name": "stdout",
          "text": [
            "Classes: ['क', 'को', 'ख', 'ग', 'च', 'ज', 'झ', 'ञ', 'डि', 'त', 'ना', 'प', 'प्र', 'ब', 'बा', 'भे', 'म', 'मे', 'य', 'लु', 'सी', 'सु', 'से', 'ह', '०', '१', '२', '३', '४', '५', '६', '७', '८', '९']\n",
            "Number of classes: 34\n",
            "Total number of images: 26537\n"
          ]
        }
      ]
    },
    {
      "cell_type": "code",
      "source": [],
      "metadata": {
        "id": "heodDtXEzGMv"
      },
      "execution_count": null,
      "outputs": []
    },
    {
      "cell_type": "code",
      "source": [
        "import matplotlib.pyplot as plt\n",
        "import torch\n",
        "\n",
        "# Assuming image is a PyTorch tensor\n",
        "image, label = dataset[0]\n",
        "# Convert the image from (channels, height, width) to (height, width, channels)\n",
        "image = image.permute(1, 2, 0)\n",
        "# If the image is a tensor, convert it to a numpy array for plotting\n",
        "if isinstance(image, torch.Tensor):\n",
        "    image = image.numpy()\n",
        "# Plot the image\n",
        "plt.imshow(image)\n",
        "plt.title(f'Label: {label}')\n",
        "plt.show()\n",
        "print(\"class name\",class_names[label])"
      ],
      "metadata": {
        "colab": {
          "base_uri": "https://localhost:8080/",
          "height": 487
        },
        "id": "TiLw33SOyLg7",
        "outputId": "011c11a6-e218-40da-f9a7-af749e96802e"
      },
      "execution_count": null,
      "outputs": [
        {
          "output_type": "stream",
          "name": "stderr",
          "text": [
            "WARNING:matplotlib.image:Clipping input data to the valid range for imshow with RGB data ([0..1] for floats or [0..255] for integers).\n"
          ]
        },
        {
          "output_type": "display_data",
          "data": {
            "text/plain": [
              "<Figure size 640x480 with 1 Axes>"
            ],
            "image/png": "[encoded data removed]"
          },
          "metadata": {}
        },
        {
          "output_type": "stream",
          "name": "stdout",
          "text": [
            "class name क\n"
          ]
        }
      ]
    },
    {
      "cell_type": "code",
      "source": [
        "# Split dataset into training, validation, and test sets\n",
        "train_size = int(0.7 * len(dataset))  # 70% for training\n",
        "val_size = int(0.2 * len(dataset))    # 20% for validation\n",
        "test_size = len(dataset) - train_size - val_size  # 10% for testing\n",
        "\n",
        "# Perform the split\n",
        "train_dataset, val_dataset, test_dataset = random_split(dataset, [train_size, val_size, test_size])\n"
      ],
      "metadata": {
        "id": "v5TPzdSjs39M"
      },
      "execution_count": null,
      "outputs": []
    },
    {
      "cell_type": "code",
      "source": [
        "# Create DataLoaders\n",
        "train_loader = DataLoader(train_dataset, batch_size=64, shuffle=True)\n",
        "val_loader = DataLoader(val_dataset, batch_size=64, shuffle=False)\n",
        "test_loader = DataLoader(test_dataset, batch_size=64, shuffle=False)"
      ],
      "metadata": {
        "id": "oHRX9ID5s36V"
      },
      "execution_count": null,
      "outputs": []
    },
    {
      "cell_type": "code",
      "source": [
        "class Conv2D(nn.Module):\n",
        "  def __init__(self, in_channels,out_channels,kernel_size,stride=1,padding='same') -> None:\n",
        "     super(Conv2D,self).__init__()\n",
        "     self.in_channels=in_channels\n",
        "     self.out_channels=out_channels\n",
        "     self.kernel_size=(kernel_size,kernel_size) if isinstance (kernel_size,int) else kernel_size\n",
        "     self.stride=stride\n",
        "     self.padding=padding\n",
        "     self.weight=nn.Parameter(torch.nn.init.xavier_uniform_(torch.empty(self.out_channels,self.in_channels,*self.kernel_size,requires_grad=True)))\n",
        "     self.bias=nn.Parameter(torch.zeros(self.out_channels,requires_grad=True))\n",
        "  def forward(self,x):\n",
        "     x=F.conv2d(x,self.weight,self.bias,self.stride,self.padding)\n",
        "     x=F.relu(x)\n",
        "     return x"
      ],
      "metadata": {
        "id": "3NtC2XVSs6yU"
      },
      "execution_count": null,
      "outputs": []
    },
    {
      "cell_type": "code",
      "source": [
        "class MaxPool(nn.Module):\n",
        "    def __init__(self, kernel_size, stride=None, padding=0):\n",
        "        super(MaxPool, self).__init__()\n",
        "        self.kernel_size = kernel_size\n",
        "        self.stride = kernel_size if stride is None else stride\n",
        "        self.padding = padding\n",
        "    def forward(self, x):\n",
        "        x=F.max_pool2d(x,self.kernel_size,self.stride,self.padding)\n",
        "        return x"
      ],
      "metadata": {
        "id": "R4ZbUJ8js6vc"
      },
      "execution_count": null,
      "outputs": []
    },
    {
      "cell_type": "code",
      "source": [
        "class Dense(nn.Module):\n",
        "    def __init__(self, in_features, out_features):\n",
        "\n",
        "        super(Dense, self).__init__()\n",
        "        self.in_features = in_features\n",
        "        self.out_features =  out_features\n",
        "        self.weight = nn.Parameter(\n",
        "            torch.nn.init.xavier_uniform_(\n",
        "                torch.empty(\n",
        "                    (self.in_features, self.out_features),\n",
        "                    requires_grad=True,\n",
        "                )\n",
        "            )\n",
        "        )\n",
        "        self.bias = nn.Parameter(\n",
        "            torch.zeros((self.out_features,), requires_grad=True)\n",
        "        )\n",
        "\n",
        "    def forward(self, x):\n",
        "        x=torch.mm(x,self.weight)+self.bias\n",
        "        return x"
      ],
      "metadata": {
        "id": "s-mRW8pXs6tD"
      },
      "execution_count": null,
      "outputs": []
    },
    {
      "cell_type": "code",
      "source": [
        "class CNNModel(nn.Module):\n",
        "    def __init__(self):\n",
        "        super(CNNModel, self).__init__()\n",
        "        # parameters for conv layers\n",
        "        filter_dim = 3\n",
        "        in_channels = [3, 16, 32, 32]\n",
        "        out_channels = [16, 32, 32, 64]\n",
        "        # parameters for dense layers\n",
        "        dense_in_features = [4096, 256]\n",
        "        dense_out_features = [256, 34]\n",
        "\n",
        "        # initializing all the layers\n",
        "        self.c1 = Conv2D(in_channels[0], out_channels[0], filter_dim)\n",
        "        self.c2 = Conv2D(in_channels[1], out_channels[1], filter_dim)\n",
        "        self.m1 = MaxPool(2)\n",
        "        self.dropout = nn.Dropout(p=0.25)\n",
        "        self.c3 = Conv2D(in_channels[2], out_channels[2], filter_dim)\n",
        "        self.c4=Conv2D(in_channels[3],out_channels[3],filter_dim)\n",
        "        self.m2=MaxPool(2)\n",
        "        self.d1=Dense(dense_in_features[0],dense_out_features[0])\n",
        "        self.d2 = Dense(dense_in_features[1], dense_out_features[1])\n",
        "\n",
        "    def forward(self, x):\n",
        "        x = self.c1(x)\n",
        "        x = self.c2(x)\n",
        "        x = self.m1(x)\n",
        "        x = self.dropout(x)\n",
        "        x = self.c3(x)\n",
        "\n",
        "        x=self.c4(x)\n",
        "        x=self.m2(x)\n",
        "        x=self.dropout(x)\n",
        "        x = x.view(x.size(0), -1)\n",
        "        x=self.d1(x)\n",
        "        x=F.relu(x)\n",
        "        x = self.d2(x)\n",
        "        return x"
      ],
      "metadata": {
        "id": "9fSpJFB7s6qn"
      },
      "execution_count": null,
      "outputs": []
    },
    {
      "cell_type": "code",
      "source": [
        "model = CNNModel()"
      ],
      "metadata": {
        "id": "upBNbf5Ws6n9"
      },
      "execution_count": null,
      "outputs": []
    },
    {
      "cell_type": "code",
      "source": [
        "def loss(target_y, predicted_y):\n",
        "    cost=F.cross_entropy(predicted_y,target_y)\n",
        "    return cost"
      ],
      "metadata": {
        "id": "ghkx5lgrtcXU"
      },
      "execution_count": null,
      "outputs": []
    },
    {
      "cell_type": "code",
      "source": [
        "device = torch.device('cuda:0' if torch.cuda.is_available() else 'cpu')\n",
        "\n",
        "model = model.to(device)\n",
        "\n",
        "LEARNING_RATE = 0.001\n",
        "optimizer = torch.optim.Adam(model.parameters(), lr=LEARNING_RATE)\n",
        "device"
      ],
      "metadata": {
        "colab": {
          "base_uri": "https://localhost:8080/"
        },
        "id": "Ehw5BlDctcUm",
        "outputId": "a78df24e-552a-4c8f-96db-e573f100bc9e"
      },
      "execution_count": null,
      "outputs": [
        {
          "output_type": "execute_result",
          "data": {
            "text/plain": [
              "device(type='cuda', index=0)"
            ]
          },
          "metadata": {},
          "execution_count": 17
        }
      ]
    },
    {
      "cell_type": "code",
      "source": [
        "def train(model: nn.Module, inputs, outputs, optimizer: torch.optim.Optimizer):\n",
        "    optimizer.zero_grad()\n",
        "    y_predicted = model(inputs)\n",
        "    y = outputs\n",
        "    current_loss = loss(y, y_predicted)\n",
        "    current_loss.backward()\n",
        "    optimizer.step()\n",
        "    return current_loss, y_predicted"
      ],
      "metadata": {
        "id": "TQs8pNWutcSA"
      },
      "execution_count": null,
      "outputs": []
    },
    {
      "cell_type": "code",
      "source": [
        "%cd /content/drive/MyDrive/character_recognisation"
      ],
      "metadata": {
        "id": "mFPsTsfStcPM",
        "colab": {
          "base_uri": "https://localhost:8080/"
        },
        "outputId": "a1c4b0c2-fe2b-4e28-898d-156361d3d744"
      },
      "execution_count": null,
      "outputs": [
        {
          "output_type": "stream",
          "name": "stdout",
          "text": [
            "/content/drive/MyDrive/character_recognisation\n"
          ]
        }
      ]
    },
    {
      "cell_type": "code",
      "source": [
        "import numpy as np\n",
        "import torch\n",
        "\n",
        "class EarlyStopping:\n",
        "    \"\"\"Early stops the training if validation loss doesn't improve after a given patience.\"\"\"\n",
        "    def __init__(self, patience=7, verbose=False, delta=0, path='ocr.pt', trace_func=print):\n",
        "        \"\"\"\n",
        "        Args:\n",
        "            patience (int): How long to wait after last time validation loss improved.\n",
        "                            Default: 7\n",
        "            verbose (bool): If True, prints a message for each validation loss improvement.\n",
        "                            Default: False\n",
        "            delta (float): Minimum change in the monitored quantity to qualify as an improvement.\n",
        "                            Default: 0\n",
        "            path (str): Path for the checkpoint to be saved to.\n",
        "                            Default: 'checkpoint.pt'\n",
        "            trace_func (function): trace print function.\n",
        "                            Default: print\n",
        "        \"\"\"\n",
        "        self.patience = patience\n",
        "        self.verbose = verbose\n",
        "        self.counter = 0\n",
        "        self.best_score = None\n",
        "        self.early_stop = False\n",
        "        self.val_loss_min = np.Inf\n",
        "        self.delta = delta\n",
        "        self.path = path\n",
        "        self.trace_func = trace_func\n",
        "    def __call__(self, val_loss, model):\n",
        "\n",
        "        score = -val_loss\n",
        "\n",
        "        if self.best_score is None:\n",
        "            self.best_score = score\n",
        "            self.save_checkpoint(val_loss, model)\n",
        "        elif score < self.best_score + self.delta:\n",
        "            self.counter += 1\n",
        "            self.trace_func(f'EarlyStopping counter: {self.counter} out of {self.patience}')\n",
        "            if self.counter >= self.patience:\n",
        "                self.early_stop = True\n",
        "        else:\n",
        "            self.best_score = score\n",
        "            self.save_checkpoint(val_loss, model)\n",
        "            self.counter = 0\n",
        "\n",
        "    def save_checkpoint(self, val_loss, model):\n",
        "        '''Saves model when validation loss decrease.'''\n",
        "        if self.verbose:\n",
        "            self.trace_func(f'Validation loss decreased ({self.val_loss_min:.6f} --> {val_loss:.6f}).  Saving model ...')\n",
        "        torch.save(model, self.path)\n",
        "        self.val_loss_min = val_loss"
      ],
      "metadata": {
        "id": "jfmAuUDztcJ9"
      },
      "execution_count": null,
      "outputs": []
    },
    {
      "cell_type": "code",
      "source": [],
      "metadata": {
        "id": "mKV0LQxN0kvd"
      },
      "execution_count": null,
      "outputs": []
    },
    {
      "cell_type": "code",
      "source": [],
      "metadata": {
        "id": "vmvwAvYc2H4j"
      },
      "execution_count": null,
      "outputs": []
    },
    {
      "cell_type": "code",
      "source": [],
      "metadata": {
        "id": "bHebqenR2H2D"
      },
      "execution_count": null,
      "outputs": []
    },
    {
      "cell_type": "code",
      "source": [
        "\n",
        "from tqdm import tqdm\n",
        "\n",
        "def train_and_evaluate(model, train_loader, test_loader, optimizer, loss, num_epochs, device, early_stopping):\n",
        "    train_acc_per_epoch = []\n",
        "    val_acc_per_epoch = []\n",
        "\n",
        "    train_loss_per_epoch = []\n",
        "    val_loss_per_epoch = []\n",
        "\n",
        "    print(\"Training\")\n",
        "    for epoch in range(num_epochs):\n",
        "        train_loss = []\n",
        "        train_acc = []\n",
        "        model.train()\n",
        "        for num, (x_batch, y_batch) in enumerate(tqdm(train_loader)):\n",
        "            x_batch, y_batch = x_batch.to(device), y_batch.to(device)\n",
        "            losses, pred = train(model, x_batch, y_batch, optimizer)\n",
        "            train_loss.append(losses.item())\n",
        "            train_acc.append((y_batch == pred.argmax(dim=-1)).float().mean().item())\n",
        "\n",
        "        val_loss = []\n",
        "        val_acc = []\n",
        "        model.eval()\n",
        "        with torch.no_grad():\n",
        "            for x_batch, y_batch in val_loader:\n",
        "                x_batch, y_batch = x_batch.to(device), y_batch.to(device)\n",
        "                val_pred = model(x_batch)\n",
        "                val_loss.append(loss(y_batch, val_pred).item())\n",
        "                val_acc.append((y_batch == val_pred.argmax(dim=-1)).float().mean().item())\n",
        "\n",
        "        print('\\nEpoch: {}\\tTrain Loss: {}\\tTrain Accuracy: {}\\n\\t\\tVal Loss: \\\n",
        "        {}\\tVal Accuracy: {}\\n'.format(\n",
        "             epoch+1, np.mean(train_loss), np.mean(train_acc), np.mean(val_loss),\n",
        "             np.mean(val_acc)\n",
        "        ))\n",
        "\n",
        "        # Tracking accuracy in each epoch for plot\n",
        "        train_acc_per_epoch.append(np.mean(train_acc))\n",
        "        val_acc_per_epoch.append(np.mean(val_acc))\n",
        "        # tracking loss in each epoch for plot\n",
        "        train_loss_per_epoch.append(np.mean(train_loss))\n",
        "        val_loss_per_epoch.append(np.mean(val_loss))\n",
        "        # Early stopping\n",
        "        early_stopping(np.mean(val_loss), model)\n",
        "        if early_stopping.early_stop:\n",
        "                print(\"Early stopping\")\n",
        "                break\n",
        "    checkpoint = {\n",
        "    'model_state_dict': model.state_dict(),\n",
        "    'optimizer_state_dict': optimizer.state_dict(),\n",
        "    'train_acc_per_epoch': train_acc_per_epoch,\n",
        "    'val_acc_per_epoch': val_acc_per_epoch,\n",
        "    'train_loss_per_epoch': train_loss_per_epoch,\n",
        "    'val_loss_per_epoch': val_loss_per_epoch,\n",
        "    }\n",
        "    torch.save(checkpoint, 'checkpoint.pth.tar')\n",
        "    return train_acc_per_epoch, val_acc_per_epoch,train_loss_per_epoch, val_loss_per_epoch\n"
      ],
      "metadata": {
        "id": "1Kq6B4pO2HzL"
      },
      "execution_count": null,
      "outputs": []
    },
    {
      "cell_type": "code",
      "source": [
        "early_stopping = EarlyStopping(patience=10, verbose=True)\n",
        "num_epochs = 500\n",
        "train_acc_per_epoch, val_acc_per_epoch,train_loss_per_epoch, val_loss_per_epoch = train_and_evaluate(model, train_loader, val_loader, optimizer, loss, num_epochs, device, early_stopping)"
      ],
      "metadata": {
        "id": "fDe2r-NV2Hwh",
        "colab": {
          "base_uri": "https://localhost:8080/"
        },
        "outputId": "bef5f3f2-82fc-4d6a-98d2-f65e339e0d6f"
      },
      "execution_count": null,
      "outputs": [
        {
          "output_type": "stream",
          "name": "stdout",
          "text": [
            "Training\n"
          ]
        },
        {
          "output_type": "stream",
          "name": "stderr",
          "text": [
            "100%|██████████| 291/291 [01:11<00:00,  4.08it/s]\n"
          ]
        },
        {
          "output_type": "stream",
          "name": "stdout",
          "text": [
            "\n",
            "Epoch: 1\tTrain Loss: 0.895207715294359\tTrain Accuracy: 0.766698883161512\n",
            "\t\tVal Loss:         0.17735122705259956\tVal Accuracy: 0.9583801304001406\n",
            "\n",
            "Validation loss decreased (inf --> 0.177351).  Saving model ...\n"
          ]
        },
        {
          "output_type": "stream",
          "name": "stderr",
          "text": [
            "100%|██████████| 291/291 [01:05<00:00,  4.45it/s]\n"
          ]
        },
        {
          "output_type": "stream",
          "name": "stdout",
          "text": [
            "\n",
            "Epoch: 2\tTrain Loss: 0.14661104427298524\tTrain Accuracy: 0.9595682989690721\n",
            "\t\tVal Loss:         0.09360436956027904\tVal Accuracy: 0.9738168773880924\n",
            "\n",
            "Validation loss decreased (0.177351 --> 0.093604).  Saving model ...\n"
          ]
        },
        {
          "output_type": "stream",
          "name": "stderr",
          "text": [
            "100%|██████████| 291/291 [01:04<00:00,  4.50it/s]\n"
          ]
        },
        {
          "output_type": "stream",
          "name": "stdout",
          "text": [
            "\n",
            "Epoch: 3\tTrain Loss: 0.087529870987905\tTrain Accuracy: 0.9749785223367697\n",
            "\t\tVal Loss:         0.08178722014347742\tVal Accuracy: 0.9798569277108434\n",
            "\n",
            "Validation loss decreased (0.093604 --> 0.081787).  Saving model ...\n"
          ]
        },
        {
          "output_type": "stream",
          "name": "stderr",
          "text": [
            "100%|██████████| 291/291 [01:04<00:00,  4.52it/s]\n"
          ]
        },
        {
          "output_type": "stream",
          "name": "stdout",
          "text": [
            "\n",
            "Epoch: 4\tTrain Loss: 0.07202898305792783\tTrain Accuracy: 0.9790986542849197\n",
            "\t\tVal Loss:         0.08942048038434551\tVal Accuracy: 0.9770012253738312\n",
            "\n",
            "EarlyStopping counter: 1 out of 10\n"
          ]
        },
        {
          "output_type": "stream",
          "name": "stderr",
          "text": [
            "100%|██████████| 291/291 [01:03<00:00,  4.60it/s]\n"
          ]
        },
        {
          "output_type": "stream",
          "name": "stdout",
          "text": [
            "\n",
            "Epoch: 5\tTrain Loss: 0.053020535063525005\tTrain Accuracy: 0.9860395189003437\n",
            "\t\tVal Loss:         0.07364009648522205\tVal Accuracy: 0.9811587448579719\n",
            "\n",
            "Validation loss decreased (0.081787 --> 0.073640).  Saving model ...\n"
          ]
        },
        {
          "output_type": "stream",
          "name": "stderr",
          "text": [
            "100%|██████████| 291/291 [01:04<00:00,  4.54it/s]\n"
          ]
        },
        {
          "output_type": "stream",
          "name": "stdout",
          "text": [
            "\n",
            "Epoch: 6\tTrain Loss: 0.046134418852829706\tTrain Accuracy: 0.9873138604704866\n",
            "\t\tVal Loss:         0.07258240149934293\tVal Accuracy: 0.9824765159423092\n",
            "\n",
            "Validation loss decreased (0.073640 --> 0.072582).  Saving model ...\n"
          ]
        },
        {
          "output_type": "stream",
          "name": "stderr",
          "text": [
            "100%|██████████| 291/291 [01:03<00:00,  4.55it/s]\n"
          ]
        },
        {
          "output_type": "stream",
          "name": "stdout",
          "text": [
            "\n",
            "Epoch: 7\tTrain Loss: 0.04380446250123993\tTrain Accuracy: 0.9878114261168385\n",
            "\t\tVal Loss:         0.11787623852485768\tVal Accuracy: 0.9674003217593733\n",
            "\n",
            "EarlyStopping counter: 1 out of 10\n"
          ]
        },
        {
          "output_type": "stream",
          "name": "stderr",
          "text": [
            "100%|██████████| 291/291 [01:04<00:00,  4.53it/s]\n"
          ]
        },
        {
          "output_type": "stream",
          "name": "stdout",
          "text": [
            "\n",
            "Epoch: 8\tTrain Loss: 0.03429746598168716\tTrain Accuracy: 0.9902813573883161\n",
            "\t\tVal Loss:         0.06681635635989124\tVal Accuracy: 0.9849238050989357\n",
            "\n",
            "Validation loss decreased (0.072582 --> 0.066816).  Saving model ...\n"
          ]
        },
        {
          "output_type": "stream",
          "name": "stderr",
          "text": [
            "100%|██████████| 291/291 [01:04<00:00,  4.55it/s]\n"
          ]
        },
        {
          "output_type": "stream",
          "name": "stdout",
          "text": [
            "\n",
            "Epoch: 9\tTrain Loss: 0.03234052438212117\tTrain Accuracy: 0.9911404639175257\n",
            "\t\tVal Loss:         0.08514228834720126\tVal Accuracy: 0.9803897795906986\n",
            "\n",
            "EarlyStopping counter: 1 out of 10\n"
          ]
        },
        {
          "output_type": "stream",
          "name": "stderr",
          "text": [
            "100%|██████████| 291/291 [01:03<00:00,  4.57it/s]\n"
          ]
        },
        {
          "output_type": "stream",
          "name": "stdout",
          "text": [
            "\n",
            "Epoch: 10\tTrain Loss: 0.03363910271844961\tTrain Accuracy: 0.9901202749140894\n",
            "\t\tVal Loss:         0.08063872211229853\tVal Accuracy: 0.9838102409638554\n",
            "\n",
            "EarlyStopping counter: 2 out of 10\n"
          ]
        },
        {
          "output_type": "stream",
          "name": "stderr",
          "text": [
            "100%|██████████| 291/291 [01:03<00:00,  4.61it/s]\n"
          ]
        },
        {
          "output_type": "stream",
          "name": "stdout",
          "text": [
            "\n",
            "Epoch: 11\tTrain Loss: 0.024869583040398636\tTrain Accuracy: 0.9932882302405498\n",
            "\t\tVal Loss:         0.07049773515942674\tVal Accuracy: 0.9853003111230322\n",
            "\n",
            "EarlyStopping counter: 3 out of 10\n"
          ]
        },
        {
          "output_type": "stream",
          "name": "stderr",
          "text": [
            "100%|██████████| 291/291 [01:04<00:00,  4.51it/s]\n"
          ]
        },
        {
          "output_type": "stream",
          "name": "stdout",
          "text": [
            "\n",
            "Epoch: 12\tTrain Loss: 0.027043512199854933\tTrain Accuracy: 0.992053264604811\n",
            "\t\tVal Loss:         0.062263614549098185\tVal Accuracy: 0.9873710942555622\n",
            "\n",
            "Validation loss decreased (0.066816 --> 0.062264).  Saving model ...\n"
          ]
        },
        {
          "output_type": "stream",
          "name": "stderr",
          "text": [
            "100%|██████████| 291/291 [01:03<00:00,  4.57it/s]\n"
          ]
        },
        {
          "output_type": "stream",
          "name": "stdout",
          "text": [
            "\n",
            "Epoch: 13\tTrain Loss: 0.022717112928667526\tTrain Accuracy: 0.9933419243986255\n",
            "\t\tVal Loss:         0.0543205663070913\tVal Accuracy: 0.9892536243760442\n",
            "\n",
            "Validation loss decreased (0.062264 --> 0.054321).  Saving model ...\n"
          ]
        },
        {
          "output_type": "stream",
          "name": "stderr",
          "text": [
            "100%|██████████| 291/291 [01:03<00:00,  4.58it/s]\n"
          ]
        },
        {
          "output_type": "stream",
          "name": "stdout",
          "text": [
            "\n",
            "Epoch: 14\tTrain Loss: 0.026497096312852398\tTrain Accuracy: 0.9922143470790378\n",
            "\t\tVal Loss:         0.08133054401091558\tVal Accuracy: 0.9815352508820683\n",
            "\n",
            "EarlyStopping counter: 1 out of 10\n"
          ]
        },
        {
          "output_type": "stream",
          "name": "stderr",
          "text": [
            "100%|██████████| 291/291 [01:03<00:00,  4.60it/s]\n"
          ]
        },
        {
          "output_type": "stream",
          "name": "stdout",
          "text": [
            "\n",
            "Epoch: 15\tTrain Loss: 0.024845103772190433\tTrain Accuracy: 0.9929123711340206\n",
            "\t\tVal Loss:         0.05650154507279092\tVal Accuracy: 0.9898024301931082\n",
            "\n",
            "EarlyStopping counter: 2 out of 10\n"
          ]
        },
        {
          "output_type": "stream",
          "name": "stderr",
          "text": [
            "100%|██████████| 291/291 [01:03<00:00,  4.56it/s]\n"
          ]
        },
        {
          "output_type": "stream",
          "name": "stdout",
          "text": [
            "\n",
            "Epoch: 16\tTrain Loss: 0.016919445503678625\tTrain Accuracy: 0.9948990549828178\n",
            "\t\tVal Loss:         0.07755685099079737\tVal Accuracy: 0.9849238050989357\n",
            "\n",
            "EarlyStopping counter: 3 out of 10\n"
          ]
        },
        {
          "output_type": "stream",
          "name": "stderr",
          "text": [
            "100%|██████████| 291/291 [01:03<00:00,  4.57it/s]\n"
          ]
        },
        {
          "output_type": "stream",
          "name": "stdout",
          "text": [
            "\n",
            "Epoch: 17\tTrain Loss: 0.02610821775608789\tTrain Accuracy: 0.992053264604811\n",
            "\t\tVal Loss:         0.05660510216720391\tVal Accuracy: 0.9881400602409639\n",
            "\n",
            "EarlyStopping counter: 4 out of 10\n"
          ]
        },
        {
          "output_type": "stream",
          "name": "stderr",
          "text": [
            "100%|██████████| 291/291 [01:04<00:00,  4.54it/s]\n"
          ]
        },
        {
          "output_type": "stream",
          "name": "stdout",
          "text": [
            "\n",
            "Epoch: 18\tTrain Loss: 0.018145233094038645\tTrain Accuracy: 0.9952749140893471\n",
            "\t\tVal Loss:         0.08618524857058263\tVal Accuracy: 0.9849238050989357\n",
            "\n",
            "EarlyStopping counter: 5 out of 10\n"
          ]
        },
        {
          "output_type": "stream",
          "name": "stderr",
          "text": [
            "100%|██████████| 291/291 [01:03<00:00,  4.56it/s]\n"
          ]
        },
        {
          "output_type": "stream",
          "name": "stdout",
          "text": [
            "\n",
            "Epoch: 19\tTrain Loss: 0.01455682744878133\tTrain Accuracy: 0.9952069017076001\n",
            "\t\tVal Loss:         0.08787518740743497\tVal Accuracy: 0.9868063352194177\n",
            "\n",
            "EarlyStopping counter: 6 out of 10\n"
          ]
        },
        {
          "output_type": "stream",
          "name": "stderr",
          "text": [
            "100%|██████████| 291/291 [01:03<00:00,  4.55it/s]\n"
          ]
        },
        {
          "output_type": "stream",
          "name": "stdout",
          "text": [
            "\n",
            "Epoch: 20\tTrain Loss: 0.02179183899458162\tTrain Accuracy: 0.9938645477557101\n",
            "\t\tVal Loss:         0.09367201112597165\tVal Accuracy: 0.9806099397590361\n",
            "\n",
            "EarlyStopping counter: 7 out of 10\n"
          ]
        },
        {
          "output_type": "stream",
          "name": "stderr",
          "text": [
            "100%|██████████| 291/291 [01:05<00:00,  4.42it/s]\n"
          ]
        },
        {
          "output_type": "stream",
          "name": "stdout",
          "text": [
            "\n",
            "Epoch: 21\tTrain Loss: 0.027676794770128674\tTrain Accuracy: 0.9913552405498282\n",
            "\t\tVal Loss:         0.07981994715505224\tVal Accuracy: 0.9837942870266466\n",
            "\n",
            "EarlyStopping counter: 8 out of 10\n"
          ]
        },
        {
          "output_type": "stream",
          "name": "stderr",
          "text": [
            "100%|██████████| 291/291 [01:03<00:00,  4.59it/s]\n"
          ]
        },
        {
          "output_type": "stream",
          "name": "stdout",
          "text": [
            "\n",
            "Epoch: 22\tTrain Loss: 0.014283501967773041\tTrain Accuracy: 0.9957581615120275\n",
            "\t\tVal Loss:         0.07011065732321328\tVal Accuracy: 0.9890813253012049\n",
            "\n",
            "EarlyStopping counter: 9 out of 10\n"
          ]
        },
        {
          "output_type": "stream",
          "name": "stderr",
          "text": [
            "100%|██████████| 291/291 [01:04<00:00,  4.52it/s]\n"
          ]
        },
        {
          "output_type": "stream",
          "name": "stdout",
          "text": [
            "\n",
            "Epoch: 23\tTrain Loss: 0.01607834645519094\tTrain Accuracy: 0.9953286082474226\n",
            "\t\tVal Loss:         0.05861405446281774\tVal Accuracy: 0.9877635542168675\n",
            "\n",
            "EarlyStopping counter: 10 out of 10\n",
            "Early stopping\n"
          ]
        }
      ]
    },
    {
      "cell_type": "code",
      "source": [],
      "metadata": {
        "id": "bAXNGm_x2Ht5"
      },
      "execution_count": null,
      "outputs": []
    },
    {
      "cell_type": "code",
      "source": [],
      "metadata": {
        "id": "eSxz6DER2Hoe"
      },
      "execution_count": null,
      "outputs": []
    },
    {
      "cell_type": "code",
      "source": [
        "import matplotlib.pyplot as plt\n",
        "\n",
        "def plot_training_history(train_loss_per_epoch, val_loss_per_epoch):\n",
        "    fig = plt.figure(figsize=(10, 8))\n",
        "\n",
        "    # Plot training and validation loss\n",
        "    plt.plot(range(1, len(train_loss_per_epoch) + 1), train_loss_per_epoch, label='Training Loss')\n",
        "    plt.plot(range(1, len(val_loss_per_epoch) + 1), val_loss_per_epoch, label='Validation Loss')\n",
        "\n",
        "    # Find position of the lowest validation loss\n",
        "    min_pos = val_loss_per_epoch.index(min(val_loss_per_epoch)) + 1\n",
        "    plt.axvline(min_pos, linestyle='--', color='r', label='Early Stopping Checkpoint')\n",
        "\n",
        "    plt.xlabel('Epochs')\n",
        "    plt.ylabel('Loss')\n",
        "    plt.ylim(0, 0.5)  # Adjust this if needed based on your loss range\n",
        "    plt.xlim(0, len(train_loss_per_epoch) + 1)  # Consistent scale\n",
        "\n",
        "    # Set x-axis ticks to be integers only\n",
        "    plt.xticks(range(1, len(train_loss_per_epoch) + 1))\n",
        "\n",
        "    plt.grid(True)\n",
        "    plt.legend()\n",
        "    plt.tight_layout()\n",
        "\n",
        "    # Save the figure\n",
        "    fig.savefig('loss_plot.png', bbox_inches='tight')\n",
        "    plt.show()\n",
        "\n",
        "# Example data\n",
        "\n",
        "plot_training_history(train_loss_per_epoch, val_loss_per_epoch)\n"
      ],
      "metadata": {
        "id": "C7HTLAyQ2Hlk",
        "colab": {
          "base_uri": "https://localhost:8080/",
          "height": 807
        },
        "outputId": "5392ed51-fe66-4471-b04a-3cd4c0f8cd52"
      },
      "execution_count": null,
      "outputs": [
        {
          "output_type": "display_data",
          "data": {
            "text/plain": [
              "<Figure size 1000x800 with 1 Axes>"
            ],
            "image/png": "[encoded data removed]"
          },
          "metadata": {}
        }
      ]
    },
    {
      "cell_type": "code",
      "source": [],
      "metadata": {
        "id": "vwvW1Kcn7e8I"
      },
      "execution_count": null,
      "outputs": []
    },
    {
      "cell_type": "code",
      "source": [
        "import matplotlib.pyplot as plt\n",
        "\n",
        "def plot_accuracy(train_acc_per_epoch, val_acc_per_epoch):\n",
        "    fig = plt.figure(figsize=(8, 6))\n",
        "\n",
        "    # Plot training and validation accuracy\n",
        "    plt.plot(range(1, len(train_acc_per_epoch) + 1), train_acc_per_epoch, label='Training Accuracy', color='g')\n",
        "    plt.plot(range(1, len(val_acc_per_epoch) + 1), val_acc_per_epoch, label='Validation Accuracy', color='purple')\n",
        "\n",
        "    plt.xlabel('Epochs')\n",
        "    plt.ylabel('Accuracy')\n",
        "    plt.ylim(0, 1)  # Adjust this if needed based on your accuracy range\n",
        "    plt.xlim(0, len(train_acc_per_epoch) + 1)  # Consistent scale\n",
        "    plt.xticks(range(1, len(train_acc_per_epoch) + 1))\n",
        "    plt.grid(True)\n",
        "    plt.legend()\n",
        "    plt.tight_layout()\n",
        "\n",
        "    # Save the figure\n",
        "    plt.savefig('accuracy_plot.png', bbox_inches='tight')\n",
        "    plt.show()\n",
        "\n",
        "# Example data for accuracy\n",
        "\n",
        "plot_accuracy(train_acc_per_epoch, val_acc_per_epoch)\n"
      ],
      "metadata": {
        "id": "FFAs9O2_7e5Y",
        "colab": {
          "base_uri": "https://localhost:8080/",
          "height": 606
        },
        "outputId": "dd7cddbd-fca4-4136-a088-1b2a51f5f94f"
      },
      "execution_count": null,
      "outputs": [
        {
          "output_type": "display_data",
          "data": {
            "text/plain": [
              "<Figure size 800x600 with 1 Axes>"
            ],
            "image/png": "[encoded data removed]"
          },
          "metadata": {}
        }
      ]
    },
    {
      "cell_type": "code",
      "source": [],
      "metadata": {
        "id": "dzTaesCX7e2r"
      },
      "execution_count": null,
      "outputs": []
    },
    {
      "cell_type": "code",
      "source": [
        "import torch\n",
        "\n",
        "# Load the checkpoint\n",
        "checkpoint = torch.load('/content/drive/MyDrive/character_recognisation/checkpoint.pth.tar')\n",
        "\n",
        "# Retrieve model and optimizer state dictionaries\n",
        "model_state_dict = checkpoint['model_state_dict']\n",
        "optimizer_state_dict = checkpoint['optimizer_state_dict']\n",
        "\n",
        "# Retrieve training and validation metrics\n",
        "train_acc_per_epoch = checkpoint['train_acc_per_epoch']\n",
        "val_acc_per_epoch = checkpoint['val_acc_per_epoch']\n",
        "train_loss_per_epoch = checkpoint['train_loss_per_epoch']\n",
        "val_loss_per_epoch = checkpoint['val_loss_per_epoch']\n",
        "\n",
        "# Print or use the metrics as needed\n",
        "print(\"Training Accuracy per Epoch:\", train_acc_per_epoch)\n",
        "print(\"Validation Accuracy per Epoch:\", val_acc_per_epoch)\n",
        "print(\"Training Loss per Epoch:\", train_loss_per_epoch)\n",
        "print(\"Validation Loss per Epoch:\", val_loss_per_epoch)\n",
        "\n",
        "# To use the state dictionaries, you need to load them into the model and optimizer\n",
        "# For example:\n",
        "# model.load_state_dict(model_state_dict)\n",
        "# optimizer.load_state_dict(optimizer_state_dict)\n"
      ],
      "metadata": {
        "id": "-s0QQ8SlcFzR",
        "colab": {
          "base_uri": "https://localhost:8080/"
        },
        "outputId": "796d9da7-2150-4e0f-8d2f-4d8148e38f77"
      },
      "execution_count": null,
      "outputs": [
        {
          "output_type": "stream",
          "name": "stdout",
          "text": [
            "Training Accuracy per Epoch: [0.766698883161512, 0.9595682989690721, 0.9749785223367697, 0.9790986542849197, 0.9860395189003437, 0.9873138604704866, 0.9878114261168385, 0.9902813573883161, 0.9911404639175257, 0.9901202749140894, 0.9932882302405498, 0.992053264604811, 0.9933419243986255, 0.9922143470790378, 0.9929123711340206, 0.9948990549828178, 0.992053264604811, 0.9952749140893471, 0.9952069017076001, 0.9938645477557101, 0.9913552405498282, 0.9957581615120275, 0.9953286082474226]\n",
            "Validation Accuracy per Epoch: [0.9583801304001406, 0.9738168773880924, 0.9798569277108434, 0.9770012253738312, 0.9811587448579719, 0.9824765159423092, 0.9674003217593733, 0.9849238050989357, 0.9803897795906986, 0.9838102409638554, 0.9853003111230322, 0.9873710942555622, 0.9892536243760442, 0.9815352508820683, 0.9898024301931082, 0.9849238050989357, 0.9881400602409639, 0.9849238050989357, 0.9868063352194177, 0.9806099397590361, 0.9837942870266466, 0.9890813253012049, 0.9877635542168675]\n",
            "Training Loss per Epoch: [0.895207715294359, 0.14661104427298524, 0.087529870987905, 0.07202898305792783, 0.053020535063525005, 0.046134418852829706, 0.04380446250123993, 0.03429746598168716, 0.03234052438212117, 0.03363910271844961, 0.024869583040398636, 0.027043512199854933, 0.022717112928667526, 0.026497096312852398, 0.024845103772190433, 0.016919445503678625, 0.02610821775608789, 0.018145233094038645, 0.01455682744878133, 0.02179183899458162, 0.027676794770128674, 0.014283501967773041, 0.01607834645519094]\n",
            "Validation Loss per Epoch: [0.17735122705259956, 0.09360436956027904, 0.08178722014347742, 0.08942048038434551, 0.07364009648522205, 0.07258240149934293, 0.11787623852485768, 0.06681635635989124, 0.08514228834720126, 0.08063872211229853, 0.07049773515942674, 0.062263614549098185, 0.0543205663070913, 0.08133054401091558, 0.05650154507279092, 0.07755685099079737, 0.05660510216720391, 0.08618524857058263, 0.08787518740743497, 0.09367201112597165, 0.07981994715505224, 0.07011065732321328, 0.05861405446281774]\n"
          ]
        },
        {
          "output_type": "stream",
          "name": "stderr",
          "text": [
            "<ipython-input-25-86395217b472>:4: FutureWarning: You are using `torch.load` with `weights_only=False` (the current default value), which uses the default pickle module implicitly. It is possible to construct malicious pickle data which will execute arbitrary code during unpickling (See https://github.com/pytorch/pytorch/blob/main/SECURITY.md#untrusted-models for more details). In a future release, the default value for `weights_only` will be flipped to `True`. This limits the functions that could be executed during unpickling. Arbitrary objects will no longer be allowed to be loaded via this mode unless they are explicitly allowlisted by the user via `torch.serialization.add_safe_globals`. We recommend you start setting `weights_only=True` for any use case where you don't have full control of the loaded file. Please open an issue on GitHub for any issues related to this experimental feature.\n",
            "  checkpoint = torch.load('/content/drive/MyDrive/character_recognisation/checkpoint.pth.tar')\n"
          ]
        }
      ]
    },
    {
      "cell_type": "code",
      "source": [],
      "metadata": {
        "id": "g6ByZL56cFwK"
      },
      "execution_count": null,
      "outputs": []
    },
    {
      "cell_type": "code",
      "source": [
        "mode=torch.load('/content/drive/MyDrive/character_recognisation/ocr.pt')"
      ],
      "metadata": {
        "id": "9qEXgudccFtJ",
        "colab": {
          "base_uri": "https://localhost:8080/"
        },
        "outputId": "2c4fd38b-7ee4-4620-8cc4-c159e91eaf51"
      },
      "execution_count": null,
      "outputs": [
        {
          "output_type": "stream",
          "name": "stderr",
          "text": [
            "<ipython-input-27-8b1b8b16b4cf>:1: FutureWarning: You are using `torch.load` with `weights_only=False` (the current default value), which uses the default pickle module implicitly. It is possible to construct malicious pickle data which will execute arbitrary code during unpickling (See https://github.com/pytorch/pytorch/blob/main/SECURITY.md#untrusted-models for more details). In a future release, the default value for `weights_only` will be flipped to `True`. This limits the functions that could be executed during unpickling. Arbitrary objects will no longer be allowed to be loaded via this mode unless they are explicitly allowlisted by the user via `torch.serialization.add_safe_globals`. We recommend you start setting `weights_only=True` for any use case where you don't have full control of the loaded file. Please open an issue on GitHub for any issues related to this experimental feature.\n",
            "  mode=torch.load('/content/drive/MyDrive/character_recognisation/ocr.pt')\n"
          ]
        }
      ]
    },
    {
      "cell_type": "code",
      "source": [
        "# Example inference on a single image\n",
        "from PIL import Image\n",
        "\n",
        "# Load and preprocess the image\n",
        "image_path = '/content/drive/MyDrive/character_recognisation/character_ocr/७/७_10.jpg'\n",
        "image = Image.open(image_path)\n",
        "image = transform(image).unsqueeze(0).to(device)  # Apply the same transforms used for training\n",
        "\n",
        "# Perform prediction\n",
        "mode.eval()\n",
        "with torch.no_grad():\n",
        "    output = mode(image)\n",
        "    _, predicted = torch.max(output, 1)\n",
        "    predicted_class = class_names[predicted.item()]\n",
        "\n",
        "print(f'Predicted class: {predicted_class}')"
      ],
      "metadata": {
        "colab": {
          "base_uri": "https://localhost:8080/"
        },
        "id": "AF9wD4JTx_47",
        "outputId": "057923a9-a9b5-43dc-eb34-307c48870a73"
      },
      "execution_count": null,
      "outputs": [
        {
          "output_type": "stream",
          "name": "stdout",
          "text": [
            "Predicted class: ७\n"
          ]
        }
      ]
    },
    {
      "cell_type": "code",
      "source": [],
      "metadata": {
        "id": "no_b4IHYx_2U"
      },
      "execution_count": null,
      "outputs": []
    },
    {
      "cell_type": "code",
      "source": [],
      "metadata": {
        "id": "o6yw-L-kx_zT"
      },
      "execution_count": null,
      "outputs": []
    },
    {
      "cell_type": "code",
      "source": [],
      "metadata": {
        "id": "Mgcc7PlSx_wa"
      },
      "execution_count": null,
      "outputs": []
    },
    {
      "cell_type": "code",
      "source": [],
      "metadata": {
        "id": "JeNMSeYPx_t0"
      },
      "execution_count": null,
      "outputs": []
    }
  ]
}